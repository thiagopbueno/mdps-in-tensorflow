{
 "cells": [
  {
   "cell_type": "markdown",
   "metadata": {},
   "source": [
    "# MDPs in TensorFlow - Reservoir with Noisy"
   ]
  },
  {
   "cell_type": "markdown",
   "metadata": {},
   "source": [
    "In this IPython notebook, we'll explore **Continuous State-Action MDPs** with stochastic transitions in TensorFlow. All stochastic transitions will be defined by a deterministic function combined with external noise that is considered an input to the MDP cell."
   ]
  },
  {
   "cell_type": "markdown",
   "metadata": {},
   "source": [
    "## Imports"
   ]
  },
  {
   "cell_type": "code",
   "execution_count": 1,
   "metadata": {},
   "outputs": [],
   "source": [
    "import matplotlib.pyplot as plt\n",
    "import numpy as np\n",
    "import tensorflow as tf\n",
    "import os\n",
    "import sys\n",
    "import inspect\n",
    "\n",
    "currentdir = os.path.dirname(os.path.abspath(inspect.getfile(inspect.currentframe())))\n",
    "parentdir = os.path.dirname(currentdir)\n",
    "sys.path.insert(0, parentdir)\n",
    "\n",
    "\n",
    "from tf_mdp import utils\n",
    "from tf_mdp.models import mdp \n",
    "import functools\n",
    "import time\n",
    "\n",
    "# import utils\n",
    "\n",
    "%matplotlib inline"
   ]
  },
  {
   "cell_type": "markdown",
   "metadata": {},
   "source": [
    "## Modeling MDPs in TensorFlow"
   ]
  },
  {
   "cell_type": "markdown",
   "metadata": {},
   "source": [
    "### Navigation in 2D grid with deceleration zone at the center"
   ]
  },
  {
   "cell_type": "code",
   "execution_count": 2,
   "metadata": {},
   "outputs": [],
   "source": [
    "reserv_dict = {'n_reservoirs': 3,\n",
    "               'upper_bounds': [200.0, 200.0, 200.0],\n",
    "               'lower_bounds': [10.0, 10.0, 10],\n",
    "               'initial_states': [105.0, 105.0, 105.0],\n",
    "               'rain_mean': 5.0,\n",
    "               'rain_std': 1.,\n",
    "               'evaporation_std': 5.}"
   ]
  },
  {
   "cell_type": "code",
   "execution_count": 3,
   "metadata": {},
   "outputs": [],
   "source": [
    "class Reservoir_non_linear(mdp.TF_MDP):\n",
    "    \"\"\"\n",
    "    Class that encodes a mnp reservoir scenario\n",
    "\n",
    "    :param graph: computation graph\n",
    "    :type graph: tf.Graph\n",
    "    :param reserv_dict: specific parameters of the problem\n",
    "    :type reserv_dict: dict\n",
    "    \"\"\"\n",
    "    def __init__(self,\n",
    "                 graph,\n",
    "                 reserv_dict):\n",
    "        self.graph = graph\n",
    "        self.n_reservoirs = reserv_dict[\"n_reservoirs\"]\n",
    "        self.rain_mean = reserv_dict[\"rain_mean\"]\n",
    "        self.rain_std = reserv_dict[\"rain_std\"]\n",
    "        self.e_t_std = reserv_dict[\"evaporation_std\"]\n",
    "        self.lower = np.array(reserv_dict['lower_bounds'], dtype=\"float32\")\n",
    "        self.upper = np.array(reserv_dict['upper_bounds'], dtype=\"float32\")\n",
    "        self.halfs = (self.upper + self.lower) / 2.0\n",
    "        self.max_capacity_largest = np.max(self.upper - self.lower) \n",
    "        self.max_capacity = float(sys.maxsize)\n",
    "\n",
    "\n",
    "        with self.graph.as_default():\n",
    "            pass\n",
    "\n",
    "    @property\n",
    "    def action_size(self):\n",
    "        return self.n_reservoirs\n",
    "    \n",
    "    @property\n",
    "    def state_size(self):\n",
    "        return self.n_reservoirs\n",
    "        \n",
    "    def transition(self, state, action):\n",
    "        \"\"\"\n",
    "        Takes one step on the MDP.\n",
    "\n",
    "        :param state: MDP state\n",
    "        :type state: tf.Tensor\n",
    "                     shape=(batch_size,\n",
    "                            self.state_size)\n",
    "                     dtype=float32\n",
    "                     \n",
    "        :param action: MDP action\n",
    "        :type state: tf.Tensor\n",
    "                     shape=(batch_size,\n",
    "                            self.action_size)\n",
    "                     dtype=float32\n",
    "\n",
    "        :rtype: tf.Tensor\n",
    "                shape=(batch_size, self.state_size)\n",
    "                dtype=float32\n",
    "        \"\"\"\n",
    "        state_shape = state.get_shape()\n",
    "        with self.graph.as_default():\n",
    "            with tf.name_scope(\"random_variables\"):\n",
    "                sin_e_t = tf.sin(state / self.max_capacity_largest)\n",
    "                loc_e_t = tf.multiply(0.5 * state, sin_e_t)  \n",
    "                rain_noise = tf.distributions.Normal(loc=self.rain_mean,\n",
    "                                                     scale=self.rain_std)\n",
    "                water_loss_noise = tf.distributions.Normal(loc=loc_e_t,\n",
    "                                                           scale= self.e_t_std)\n",
    "                r_t = rain_noise.sample(state_shape, seed=1)\n",
    "                e_t = water_loss_noise.sample(seed=1)\n",
    "\n",
    "            with tf.name_scope(\"transition\"):\n",
    "                new_state = state + r_t - e_t - action\n",
    "                new_state = tf.clip_by_value(new_state,\n",
    "                                             clip_value_min=0.0,\n",
    "                                             clip_value_max=self.max_capacity)\n",
    "\n",
    "        return new_state   \n",
    "        \n",
    "\n",
    "    def reward(self, state, action):\n",
    "        \"\"\"\n",
    "        calculates the reward.\n",
    "\n",
    "        :param state: MDP state\n",
    "        :type state: tf.Tensor\n",
    "                     shape=(batch_size,\n",
    "                            self.state_size)\n",
    "                     dtype=float32\n",
    "                     \n",
    "        :param action: MDP action\n",
    "        :type action: None\n",
    "\n",
    "        :rtype: tf.Tensor\n",
    "                shape=(batch_size, 1)\n",
    "                dtype=float32\n",
    "        \"\"\"\n",
    "        with self.graph.as_default():\n",
    "\n",
    "            \n",
    "            with tf.name_scope(\"reward\"):\n",
    "                __zeros = tf.zeros(state.get_shape(), dtype=tf.float32)\n",
    "                lower_comparison = tf.greater_equal(state,\n",
    "                                                    self.lower)\n",
    "                upper_comparison = tf.greater_equal(self.upper,\n",
    "                                                    state)\n",
    "                in_bounds = tf.logical_and(lower_comparison,\n",
    "                                           upper_comparison)\n",
    "                below_bounds = tf.less(state, self.lower) \n",
    "                rewards = tf.where(in_bounds,\n",
    "                                   __zeros,\n",
    "                                  tf.where(below_bounds,\n",
    "                                           - 5 * (self.lower - state),\n",
    "                                           - 100 * (state - self.upper)))\n",
    "                rewards += tf.abs(self.halfs - state) * (-0.1)\n",
    "                rewards = tf.reduce_sum(rewards, 1, keep_dims=True)\n",
    "\n",
    "        return rewards\n"
   ]
  },
  {
   "cell_type": "code",
   "execution_count": null,
   "metadata": {},
   "outputs": [],
   "source": []
  },
  {
   "cell_type": "code",
   "execution_count": null,
   "metadata": {},
   "outputs": [],
   "source": []
  },
  {
   "cell_type": "code",
   "execution_count": null,
   "metadata": {},
   "outputs": [],
   "source": []
  },
  {
   "cell_type": "code",
   "execution_count": null,
   "metadata": {},
   "outputs": [],
   "source": []
  },
  {
   "cell_type": "code",
   "execution_count": 4,
   "metadata": {},
   "outputs": [],
   "source": [
    "state_batch = np.array([[105.,105.,105.],\n",
    "                       [100.,20.,50.]])\n",
    "\n",
    "action_batch = np.array([[100.,45.,25.],\n",
    "                       [50.,20.,10.]])"
   ]
  },
  {
   "cell_type": "code",
   "execution_count": 5,
   "metadata": {},
   "outputs": [
    {
     "data": {
      "text/plain": [
       "array([[  0.        ,  31.50283813,  57.17991638],\n",
       "       [ 39.65325928,   3.55231857,  36.13182831]], dtype=float32)"
      ]
     },
     "execution_count": 5,
     "metadata": {},
     "output_type": "execute_result"
    }
   ],
   "source": [
    "my_graph = tf.Graph()\n",
    "reser = Reservoir_non_linear(my_graph, reserv_dict)\n",
    "with reser.graph.as_default():\n",
    "    states = tf.constant(state_batch, dtype=\"float32\")\n",
    "    actions = tf.constant(action_batch, dtype=\"float32\")\n",
    "    new_state = reser.transition(states, actions)\n",
    "\n",
    "sess = tf.Session(graph=reser.graph)\n",
    "new_state = sess.run(new_state)\n",
    "new_state"
   ]
  },
  {
   "cell_type": "code",
   "execution_count": null,
   "metadata": {},
   "outputs": [],
   "source": []
  },
  {
   "cell_type": "code",
   "execution_count": null,
   "metadata": {},
   "outputs": [],
   "source": []
  },
  {
   "cell_type": "code",
   "execution_count": null,
   "metadata": {},
   "outputs": [],
   "source": []
  },
  {
   "cell_type": "code",
   "execution_count": null,
   "metadata": {},
   "outputs": [],
   "source": []
  },
  {
   "cell_type": "code",
   "execution_count": null,
   "metadata": {},
   "outputs": [],
   "source": []
  },
  {
   "cell_type": "code",
   "execution_count": null,
   "metadata": {},
   "outputs": [],
   "source": []
  },
  {
   "cell_type": "code",
   "execution_count": null,
   "metadata": {},
   "outputs": [],
   "source": []
  },
  {
   "cell_type": "code",
   "execution_count": null,
   "metadata": {},
   "outputs": [],
   "source": []
  },
  {
   "cell_type": "code",
   "execution_count": null,
   "metadata": {},
   "outputs": [],
   "source": []
  },
  {
   "cell_type": "code",
   "execution_count": null,
   "metadata": {},
   "outputs": [],
   "source": []
  },
  {
   "cell_type": "code",
   "execution_count": null,
   "metadata": {},
   "outputs": [],
   "source": []
  },
  {
   "cell_type": "code",
   "execution_count": null,
   "metadata": {},
   "outputs": [],
   "source": []
  },
  {
   "cell_type": "code",
   "execution_count": null,
   "metadata": {},
   "outputs": [],
   "source": []
  },
  {
   "cell_type": "code",
   "execution_count": null,
   "metadata": {},
   "outputs": [],
   "source": []
  }
 ],
 "metadata": {
  "kernelspec": {
   "display_name": "Python 3",
   "language": "python",
   "name": "python3"
  },
  "language_info": {
   "codemirror_mode": {
    "name": "ipython",
    "version": 3
   },
   "file_extension": ".py",
   "mimetype": "text/x-python",
   "name": "python",
   "nbconvert_exporter": "python",
   "pygments_lexer": "ipython3",
   "version": "3.5.2"
  }
 },
 "nbformat": 4,
 "nbformat_minor": 2
}

{
 "cells": [
  {
   "cell_type": "markdown",
   "metadata": {},
   "source": [
    "# MDPs in TensorFlow - Reservoir with Noisy"
   ]
  },
  {
   "cell_type": "markdown",
   "metadata": {},
   "source": [
    "In this IPython notebook, we'll explore **Continuous State-Action MDPs** with stochastic transitions in TensorFlow. All stochastic transitions will be defined by a deterministic function combined with external noise that is considered an input to the MDP cell."
   ]
  },
  {
   "cell_type": "markdown",
   "metadata": {},
   "source": [
    "## Imports"
   ]
  },
  {
   "cell_type": "code",
   "execution_count": 1,
   "metadata": {},
   "outputs": [],
   "source": [
    "import matplotlib.pyplot as plt\n",
    "import numpy as np\n",
    "import tensorflow as tf\n",
    "\n",
    "from MDP import MDP\n",
    "import functools\n",
    "import time\n",
    "\n",
    "import utils\n",
    "\n",
    "%matplotlib inline"
   ]
  },
  {
   "cell_type": "markdown",
   "metadata": {},
   "source": [
    "## Modeling MDPs in TensorFlow"
   ]
  },
  {
   "cell_type": "markdown",
   "metadata": {},
   "source": [
    "### Navigation in 2D grid with deceleration zone at the center"
   ]
  },
  {
   "cell_type": "code",
   "execution_count": 89,
   "metadata": {},
   "outputs": [],
   "source": [
    "reserv_dict = {'n_reservoirs': 3,\n",
    "               'upper_bounds': [200.0, 200.0, 200.0],\n",
    "               'lower_bounds': [10.0, 10.0, 10],\n",
    "               'initial_states': [105.0, 105.0, 105.0]}"
   ]
  },
  {
   "cell_type": "code",
   "execution_count": 110,
   "metadata": {},
   "outputs": [],
   "source": [
    "class Reservoir(MDP):\n",
    "    \"\"\"\n",
    "    Class that encodes a mnp reservoir scenario\n",
    "\n",
    "    :type graph: tf.Graph\n",
    "    :type reserv_dict: dict\n",
    "    \"\"\"\n",
    "    def __init__(self,\n",
    "                 graph,\n",
    "                 reserv_dict):\n",
    "        \n",
    "        self.graph = graph\n",
    "\n",
    "        self.n_reservoirs = reserv_dict[\"n_reservoirs\"]\n",
    "        \n",
    "        # reservoir constants\n",
    "        self.lower = np.array(reserv_dict['lower_bounds'], dtype=\"float32\")\n",
    "        self.upper = np.array(reserv_dict['upper_bounds'], dtype=\"float32\")\n",
    "        self.halfs = (self.upper + self.lower) / 2.0\n",
    "\n",
    "\n",
    "        with self.graph.as_default():\n",
    "            pass\n",
    "\n",
    "            # reservoir constants\n",
    "\n",
    "\n",
    "            # deceleration constants\n",
    "\n",
    "\n",
    "            # numerical constants\n",
    "\n",
    "\n",
    "    @property\n",
    "    def action_size(self):\n",
    "        return self.n_reservoirs\n",
    "    \n",
    "    @property\n",
    "    def state_size(self):\n",
    "        return self.n_reservoirs\n",
    "        \n",
    "    def transition(self, state, action, noise):\n",
    "        pass\n",
    "\n",
    "#        with self.graph.as_default():\n",
    "\n",
    "\n",
    "#        return next_state\n",
    "\n",
    "    def reward(self, state, action):\n",
    "        \"\"\"\n",
    "        calculates the reward.\n",
    "\n",
    "        :type stape: tf.Tensor\n",
    "                     shape=(batch_size,\n",
    "                            self.ndim)\n",
    "                     dtype=float32\n",
    "\n",
    "        :type action: None\n",
    "\n",
    "        :rtype: tf.Tensor\n",
    "                shape=(batch_size, 1)\n",
    "                dtype=float32\n",
    "        \"\"\"\n",
    "        with self.graph.as_default():\n",
    "\n",
    "            \n",
    "            with tf.name_scope(\"reward\"):\n",
    "                __zeros = tf.zeros(state.get_shape(), dtype=tf.float32)\n",
    "\n",
    "                lower_comparison = tf.greater_equal(states,\n",
    "                                        lower)\n",
    "                upper_comparison = tf.greater_equal(upper,\n",
    "                                        states)\n",
    "\n",
    "                in_bounds = tf.logical_and(lower_comparison, upper_comparison)\n",
    "\n",
    "                below_bounds = tf.less(states, lower) \n",
    "\n",
    "                rewards = tf.where(in_bounds,\n",
    "                                   __zeros,\n",
    "                                  tf.where(below_bounds,\n",
    "                                           - 5 * (self.lower - states),\n",
    "                                           - 100 * (states - self.upper)))\n",
    "\n",
    "\n",
    "                rewards += tf.abs(self.halfs - states) * (-0.1)\n",
    "                rewards = tf.reduce_sum(rewards, 1, keep_dims=True)\n",
    "\n",
    "        return rewards"
   ]
  },
  {
   "cell_type": "code",
   "execution_count": 114,
   "metadata": {},
   "outputs": [
    {
     "name": "stdout",
     "output_type": "stream",
     "text": [
      "[[ 0.]\n",
      " [ 0.]]\n"
     ]
    }
   ],
   "source": [
    "batch = np.array([reserv_dict['initial_states'], reserv_dict['initial_states']])\n",
    "\n",
    "graph = tf.Graph()\n",
    "\n",
    "R =  Reservoir(graph, reserv_dict)\n",
    "with R.graph.as_default():\n",
    "    states = tf.constant(batch, dtype=\"float32\")\n",
    "    a = R.reward(states, None)\n",
    "\n",
    "sess = tf.Session(graph=graph)     \n",
    "print(sess.run(a))\n"
   ]
  },
  {
   "cell_type": "code",
   "execution_count": null,
   "metadata": {},
   "outputs": [],
   "source": []
  },
  {
   "cell_type": "code",
   "execution_count": null,
   "metadata": {},
   "outputs": [],
   "source": []
  },
  {
   "cell_type": "code",
   "execution_count": null,
   "metadata": {},
   "outputs": [],
   "source": []
  },
  {
   "cell_type": "code",
   "execution_count": null,
   "metadata": {},
   "outputs": [],
   "source": []
  },
  {
   "cell_type": "code",
   "execution_count": null,
   "metadata": {},
   "outputs": [],
   "source": []
  },
  {
   "cell_type": "code",
   "execution_count": null,
   "metadata": {},
   "outputs": [],
   "source": []
  },
  {
   "cell_type": "code",
   "execution_count": null,
   "metadata": {},
   "outputs": [],
   "source": []
  },
  {
   "cell_type": "code",
   "execution_count": null,
   "metadata": {},
   "outputs": [],
   "source": []
  },
  {
   "cell_type": "code",
   "execution_count": null,
   "metadata": {},
   "outputs": [],
   "source": []
  },
  {
   "cell_type": "code",
   "execution_count": null,
   "metadata": {},
   "outputs": [],
   "source": []
  },
  {
   "cell_type": "code",
   "execution_count": null,
   "metadata": {},
   "outputs": [],
   "source": []
  },
  {
   "cell_type": "code",
   "execution_count": null,
   "metadata": {},
   "outputs": [],
   "source": []
  },
  {
   "cell_type": "code",
   "execution_count": null,
   "metadata": {},
   "outputs": [],
   "source": []
  },
  {
   "cell_type": "code",
   "execution_count": null,
   "metadata": {},
   "outputs": [],
   "source": []
  },
  {
   "cell_type": "code",
   "execution_count": null,
   "metadata": {},
   "outputs": [],
   "source": []
  },
  {
   "cell_type": "code",
   "execution_count": null,
   "metadata": {},
   "outputs": [],
   "source": []
  },
  {
   "cell_type": "code",
   "execution_count": null,
   "metadata": {},
   "outputs": [],
   "source": []
  },
  {
   "cell_type": "code",
   "execution_count": null,
   "metadata": {},
   "outputs": [],
   "source": []
  },
  {
   "cell_type": "code",
   "execution_count": null,
   "metadata": {},
   "outputs": [],
   "source": []
  },
  {
   "cell_type": "code",
   "execution_count": null,
   "metadata": {},
   "outputs": [],
   "source": []
  },
  {
   "cell_type": "code",
   "execution_count": null,
   "metadata": {},
   "outputs": [],
   "source": []
  },
  {
   "cell_type": "code",
   "execution_count": null,
   "metadata": {},
   "outputs": [],
   "source": []
  }
 ],
 "metadata": {
  "kernelspec": {
   "display_name": "Python 3",
   "language": "python",
   "name": "python3"
  },
  "language_info": {
   "codemirror_mode": {
    "name": "ipython",
    "version": 3
   },
   "file_extension": ".py",
   "mimetype": "text/x-python",
   "name": "python",
   "nbconvert_exporter": "python",
   "pygments_lexer": "ipython3",
   "version": "3.5.2"
  }
 },
 "nbformat": 4,
 "nbformat_minor": 2
}

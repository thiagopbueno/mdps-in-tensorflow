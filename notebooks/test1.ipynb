{
 "cells": [
  {
   "cell_type": "markdown",
   "metadata": {},
   "source": [
    "# Introduction"
   ]
  },
  {
   "cell_type": "markdown",
   "metadata": {},
   "source": [
    "## Imports"
   ]
  },
  {
   "cell_type": "code",
   "execution_count": 1,
   "metadata": {},
   "outputs": [],
   "source": [
    "import numpy as np\n",
    "import matplotlib.pyplot as plt\n",
    "import tensorflow as tf\n",
    "\n",
    "import abc\n",
    "import functools\n",
    "import time\n",
    "import os\n",
    "import shutil\n",
    "\n",
    "%matplotlib inline"
   ]
  },
  {
   "cell_type": "code",
   "execution_count": 2,
   "metadata": {},
   "outputs": [],
   "source": [
    "currentdir = os.getcwd()\n",
    "pickles_path = os.path.join(currentdir, \"graphs\")\n",
    "if os.path.exists(pickles_path):\n",
    "    shutil.rmtree(pickles_path)\n",
    "\n",
    "\n",
    "def get_log_path():\n",
    "    log_basedir = './graphs'\n",
    "    run_label = time.strftime('%d-%m-%Y_%H-%M-%S')  # e.g. 12-11-2016_18-20-45\n",
    "    return os.path.join(log_basedir, run_label)"
   ]
  },
  {
   "cell_type": "markdown",
   "metadata": {},
   "source": [
    "# Using the attributs of a class to construct tensors"
   ]
  },
  {
   "cell_type": "code",
   "execution_count": 3,
   "metadata": {},
   "outputs": [],
   "source": [
    "class Map:\n",
    "    def __init__(self, graph):\n",
    "        with graph.as_default():\n",
    "            self.a = tf.constant(5.0, name=\"a\")\n",
    "            self.b = tf.constant(6.0, name=\"b\")\n",
    "            self.c = tf.multiply(self.a, self.b, name=\"c\")"
   ]
  },
  {
   "cell_type": "code",
   "execution_count": 4,
   "metadata": {},
   "outputs": [
    {
     "name": "stdout",
     "output_type": "stream",
     "text": [
      "\n",
      "&&&&&&&&& For TensorBoard visualization type &&&&&&&&&&&\n",
      "\n",
      "tensorboard  --logdir ./graphs/03-11-2017_21-49-32\n",
      "\n",
      "5.0\n",
      "6.0\n",
      "30.0\n"
     ]
    }
   ],
   "source": [
    "my_graph = tf.Graph()\n",
    "m = Map(my_graph)\n",
    "with tf.Session(graph=my_graph) as sess:\n",
    "    log_path = get_log_path()\n",
    "    print(\"\\n&&&&&&&&& For TensorBoard visualization type &&&&&&&&&&&\")\n",
    "    print(\"\\ntensorboard  --logdir {}\\n\".format(log_path))\n",
    "    writer = tf.summary.FileWriter(log_path, sess.graph)\n",
    "    print(sess.run(m.a))\n",
    "    print(sess.run(m.b))\n",
    "    print(sess.run(m.c))"
   ]
  },
  {
   "cell_type": "code",
   "execution_count": 5,
   "metadata": {},
   "outputs": [],
   "source": [
    "# ! tensorboard  --logdir "
   ]
  },
  {
   "cell_type": "markdown",
   "metadata": {},
   "source": [
    "## Modeling MDPs in TensorFlow"
   ]
  },
  {
   "cell_type": "markdown",
   "metadata": {},
   "source": [
    "All classes defining MDPs must inherit from abstract class ```MDP```."
   ]
  },
  {
   "cell_type": "code",
   "execution_count": 6,
   "metadata": {},
   "outputs": [],
   "source": [
    "class MDP(metaclass=abc.ABCMeta):\n",
    "    \n",
    "    @abc.abstractproperty\n",
    "    def action_size(self):\n",
    "        return\n",
    "    \n",
    "    @abc.abstractproperty\n",
    "    def state_size(self):\n",
    "        return\n",
    "\n",
    "    @abc.abstractmethod\n",
    "    def transition(self, state, action):\n",
    "        return\n",
    "\n",
    "    @abc.abstractmethod\n",
    "    def reward(self, state, action):\n",
    "        return\n"
   ]
  },
  {
   "cell_type": "code",
   "execution_count": null,
   "metadata": {},
   "outputs": [],
   "source": []
  },
  {
   "cell_type": "code",
   "execution_count": null,
   "metadata": {},
   "outputs": [],
   "source": []
  },
  {
   "cell_type": "code",
   "execution_count": null,
   "metadata": {},
   "outputs": [],
   "source": []
  },
  {
   "cell_type": "code",
   "execution_count": null,
   "metadata": {},
   "outputs": [],
   "source": []
  },
  {
   "cell_type": "markdown",
   "metadata": {},
   "source": [
    "## Encoding an MDP as a Recurrent Neural Net"
   ]
  },
  {
   "cell_type": "code",
   "execution_count": 9,
   "metadata": {},
   "outputs": [],
   "source": [
    "def policy_network(layers, state, limits=1.0):\n",
    "    assert(layers[0] == state.shape[1])\n",
    "\n",
    "    with tf.variable_scope('policy'):\n",
    "        \n",
    "        # hidden layers\n",
    "        outputs = state\n",
    "        for i, n_h in enumerate(layers[1:]):\n",
    "            if i != len(layers)-2:\n",
    "                activation = tf.nn.relu\n",
    "            else:\n",
    "                activation = tf.nn.tanh\n",
    "\n",
    "            outputs = tf.layers.dense(outputs,\n",
    "                                      units=n_h,\n",
    "                                      activation=activation,\n",
    "                                      kernel_initializer=tf.glorot_normal_initializer(),\n",
    "                                      name=\"layer\"+str(i+1))\n",
    "\n",
    "        # add action limits over last tanh layer\n",
    "        action = tf.constant(limits) * outputs\n",
    "\n",
    "    # print(tf.get_default_graph().get_collection('variables'))\n",
    "    \n",
    "    return action"
   ]
  },
  {
   "cell_type": "code",
   "execution_count": null,
   "metadata": {},
   "outputs": [],
   "source": []
  },
  {
   "cell_type": "code",
   "execution_count": 10,
   "metadata": {},
   "outputs": [],
   "source": [
    "class MDP_RNNCell(tf.nn.rnn_cell.RNNCell):\n",
    "\n",
    "    def __init__(self, mdp, policy):\n",
    "        self.mdp = mdp\n",
    "        self.policy = policy\n",
    "\n",
    "    @property\n",
    "    def state_size(self):\n",
    "        return mdp.state_size\n",
    "\n",
    "    @property\n",
    "    def output_size(self):\n",
    "        return mdp.state_size + mdp.action_size + 1\n",
    "\n",
    "    def __call__(self, inputs, state, scope=None):\n",
    "        # add policy network\n",
    "        action = self.policy(state)\n",
    "\n",
    "        # add MDP components to the RNN cell output\n",
    "        noise = inputs\n",
    "        next_state =  self.mdp.transition(state, action, noise)\n",
    "        reward = self.mdp.reward(next_state, action)\n",
    "        print(\"AAAA reward\", reward)\n",
    "        \n",
    "        return tf.concat([reward, next_state, action], 1), next_state\n"
   ]
  },
  {
   "cell_type": "code",
   "execution_count": 11,
   "metadata": {},
   "outputs": [],
   "source": [
    "class MDP_RNN(object):\n",
    "    \n",
    "    def __init__(self, mdp, policy, batch_size=1):\n",
    "        self.cell = MDP_RNNCell(mdp, policy)\n",
    "        self.batch_size = batch_size\n",
    "    \n",
    "    def unroll(self, inputs, initial_state):\n",
    "        # dynamic time unrolling\n",
    "        outputs, final_state = tf.nn.dynamic_rnn(\n",
    "            self.cell,\n",
    "            inputs,\n",
    "            initial_state=initial_state,\n",
    "            dtype=tf.float32)\n",
    "\n",
    "        # gather reward, state and action series\n",
    "        outputs = tf.unstack(outputs, axis=2)\n",
    "        max_time = int(inputs.shape[1])\n",
    "\n",
    "        reward_series = tf.reshape(outputs[0], [-1, max_time, 1])\n",
    "        state_series  = tf.stack(outputs[1:3], axis=2)\n",
    "        action_series = tf.stack(outputs[3:5], axis=2)\n",
    "        \n",
    "        return reward_series, state_series, action_series, final_state\n"
   ]
  },
  {
   "cell_type": "markdown",
   "metadata": {},
   "source": [
    "## Defining the action optimizer"
   ]
  },
  {
   "cell_type": "markdown",
   "metadata": {},
   "source": [
    "## Putting all together"
   ]
  },
  {
   "cell_type": "markdown",
   "metadata": {},
   "source": [
    "### Instantiate the MDP model"
   ]
  },
  {
   "cell_type": "markdown",
   "metadata": {},
   "source": [
    "### Unroll the RNN model"
   ]
  },
  {
   "cell_type": "code",
   "execution_count": 12,
   "metadata": {},
   "outputs": [],
   "source": [
    "def build_initial_states_grid(x_grid_size, y_grid_size):\n",
    "    batch_size = x_grid_size * y_grid_size\n",
    "    x_grid = np.linspace(0.0, params['size'][0], x_grid_size)\n",
    "    y_grid = np.linspace(0.0, params['size'][1], y_grid_size)\n",
    "    initial_states_grid = []\n",
    "    for x in x_grid:\n",
    "        for y in y_grid:\n",
    "            initial_states_grid.append([x, y])\n",
    "    return initial_states_grid, batch_size\n"
   ]
  },
  {
   "cell_type": "markdown",
   "metadata": {},
   "source": [
    "## New version of the navigation class"
   ]
  },
  {
   "cell_type": "code",
   "execution_count": 13,
   "metadata": {},
   "outputs": [],
   "source": [
    "class Navigation2(MDP):\n",
    "    \"\"\"\n",
    "    Class that encodes a mnp navigation scenario\n",
    "\n",
    "    :type graph: tf.Graph\n",
    "    :type kwargs: dict\n",
    "    \"\"\"\n",
    "\n",
    "    def __init__(self, graph, **kwargs):\n",
    "        self.__dict__.update(kwargs)\n",
    "        with graph.as_default():\n",
    "            with tf.name_scope(\"grid_constants\"):\n",
    "                self._size = tf.constant(self.size, dtype=tf.float32, name=\"size\")\n",
    "                self._center = tf.constant(self.center, dtype=tf.float32)\n",
    "                self._goal = tf.constant(self.goal, dtype=tf.float32)\n",
    "            with tf.name_scope(\"numerical_constants\"):\n",
    "                self._0_00 = tf.constant(0.00, dtype=tf.float32)\n",
    "                self._1_00 = tf.constant(1.00, dtype=tf.float32)\n",
    "                self._2_00 = tf.constant(2.00, dtype=tf.float32)\n",
    "                self._8_00 = tf.constant(8.00, dtype=tf.float32)\n",
    "                self._decay = tf.constant(self.decay, dtype=tf.float32)\n",
    "\n",
    "    @property\n",
    "    def action_size(self):\n",
    "        return self.ndim\n",
    "    \n",
    "    @property\n",
    "    def state_size(self):\n",
    "        return self.ndim\n",
    "        \n",
    "    def transition(self, state, action, noise):\n",
    "        \"\"\"\n",
    "        takes one transition step on the mdp\n",
    "\n",
    "        :type stape: tf.Tensor\n",
    "                     shape=(batch_size, ndim)\n",
    "                     dtype=float32\n",
    "\n",
    "        :type action: tf.Tensor\n",
    "                     shape=(batch_size, ndim)\n",
    "                     dtype=float32\n",
    "\n",
    "        :type noise: tf.Tensor\n",
    "                     shape=(batch_size, 1)\n",
    "                     dtype=float32\n",
    "\n",
    "        :rtype: tf.Tensor\n",
    "                shape=(batch_size, ndim)\n",
    "                dtype=float32\n",
    "        \"\"\"\n",
    "\n",
    "        # rotation angle (in degrees)\n",
    "        velocity = tf.norm(action, axis=1, keep_dims=True)\n",
    "        \n",
    "        # f(x) = 1 / (1 + exp(-8(x-1)))\n",
    "        atenuation = self._1_00 / (self._1_00 + tf.exp(-self._8_00 * (velocity - self._1_00)))\n",
    "        max_theta = 20  # degrees\n",
    "        theta =  max_theta * atenuation\n",
    "\n",
    "        # apply rotation noise\n",
    "        cos, sin = tf.cos(theta * np.pi / 180 * noise), tf.sin(theta * np.pi / 180 * noise)\n",
    "        \n",
    "        noise_matrix = tf.stack([cos, -sin, sin, cos], axis=1)\n",
    "        noise_matrix = tf.reshape(noise_matrix, [-1, 2, 2])\n",
    "        noisy_action = tf.matmul(noise_matrix, tf.reshape(action, [-1, 2, 1]))\n",
    "        noisy_action = tf.reshape(noisy_action, [-1, 2])\n",
    "        \n",
    "        # distance to center of grid\n",
    "        d = tf.sqrt(tf.reduce_sum(tf.square(state - self._center), 1, keep_dims=True))\n",
    "\n",
    "        # deceleration_factor\n",
    "        deceleration = self._2_00 / (self._1_00 + tf.exp(-self._decay * d)) - self._1_00\n",
    "        # deceleration = self.__1_00\n",
    "        \n",
    "        # next position\n",
    "        next_state = state + deceleration * noisy_action\n",
    "        next_state = tf.clip_by_value(next_state, self._0_00, self._size)\n",
    "\n",
    "        return next_state\n",
    "\n",
    "    def reward(self, state, action=None):\n",
    "        \"\"\"\n",
    "        calculates the norm L-2 (euclidean distance)\n",
    "        actions are not used\n",
    "\n",
    "        :type stape: tf.Tensor\n",
    "                     shape=(batch_size, ndim)\n",
    "                     dtype=float32 \n",
    "        :type action: None\n",
    "        :rtype: tf.Tensor\n",
    "                shape=(batch_size, 1)\n",
    "                dtype=float32\n",
    "        \"\"\"\n",
    "        return -tf.sqrt(tf.reduce_sum(tf.square(state - self._goal), 1, keep_dims=True))"
   ]
  },
  {
   "cell_type": "markdown",
   "metadata": {},
   "source": [
    "## New version of the Policy Otimizer"
   ]
  },
  {
   "cell_type": "code",
   "execution_count": 14,
   "metadata": {},
   "outputs": [],
   "source": [
    "class PolicyOptimizer2(object):\n",
    "    \n",
    "    def __init__(self, graph, loss, total, learning_rate, size, ratio=1.0):\n",
    "        self.loss = loss\n",
    "        self.total = total\n",
    "        \n",
    "        # noise size\n",
    "        self.size = size\n",
    "        self.noise_size = (int(ratio * size[0]), size[1], 1)\n",
    "\n",
    "        # optimization hyperparameters\n",
    "        self.learning_rate = learning_rate\n",
    "        with graph.as_default():\n",
    "            with tf.name_scope(\"optimizer\"):\n",
    "                self.train_step = tf.train.RMSPropOptimizer(learning_rate).minimize(loss)\n",
    "            with tf.name_scope(\"global_initializer\"):\n",
    "                self.init_op = tf.global_variables_initializer()\n",
    "\n",
    "    def run(self, sess, epoch=100, show_progress=True):\n",
    "        # initialize variables\n",
    "        sess.run(self.init_op)\n",
    "        \n",
    "        losses = []\n",
    "        for epoch_idx in range(epoch):\n",
    "            # sample noise data from normal distribution\n",
    "            # random_noise = np.random.normal(size=self.noise_size).astype(np.float32)\n",
    "            \n",
    "            # sample noise data from uniform distribution\n",
    "            random_noise = np.random.uniform(low=-1.0, high=1.0, size=self.noise_size).astype(np.float32)\n",
    "            \n",
    "            # no noise at all...\n",
    "            shape = (self.size[0] - self.noise_size[0], self.size[1], 1)\n",
    "            zero_noise = np.zeros(shape=shape).astype(np.float32)\n",
    "            \n",
    "            # noise\n",
    "            inputs_data = np.concatenate([random_noise, zero_noise], axis=0)\n",
    "\n",
    "            # backprop and update weights\n",
    "            _, loss, total = sess.run([self.train_step, self.loss, self.total], feed_dict={inputs: inputs_data})\n",
    "\n",
    "            # store and show loss information\n",
    "            losses.append(loss)\n",
    "            if show_progress:\n",
    "                print('Epoch {0:5}: loss = {1}\\r'.format(epoch_idx, loss), end='')\n",
    "        print()\n",
    "    \n",
    "        variables = sess.run({ var.name: var for var in tf.trainable_variables() })\n",
    "\n",
    "        return losses, total, variables\n"
   ]
  },
  {
   "cell_type": "markdown",
   "metadata": {},
   "source": [
    "## New version of the train function"
   ]
  },
  {
   "cell_type": "code",
   "execution_count": 15,
   "metadata": {},
   "outputs": [],
   "source": [
    "def train2(graph, loss, total, batch_size=1000, max_time=10, epoch=200, learning_rate=0.01):\n",
    "    noise_ratio = 1.00\n",
    "\n",
    "    # optimizer\n",
    "    optimizer = PolicyOptimizer2(graph, loss, total, learning_rate, (batch_size, max_time, 1), noise_ratio)\n",
    "    with graph.as_default():\n",
    "        # saver\n",
    "        saver = tf.train.Saver()\n",
    "    \n",
    "    # initilize session\n",
    "    start = time.time()\n",
    "    with tf.Session(graph=graph) as sess:\n",
    "        # optimize it, babe!\n",
    "        losses, total_cost_per_batch, variables = optimizer.run(sess, epoch)\n",
    "        \n",
    "        # save model\n",
    "        save_path = saver.save(sess, 'models/model.ckpt')\n",
    "        print(\"Model saved in file: %s\" % save_path)\n",
    "        \n",
    "    end = time.time()\n",
    "    uptime = end - start\n",
    "    print(\"Done in {0:.6f} sec\".format(uptime))\n",
    "\n",
    "    return losses, total_cost_per_batch, variables, uptime"
   ]
  },
  {
   "cell_type": "code",
   "execution_count": null,
   "metadata": {},
   "outputs": [],
   "source": []
  },
  {
   "cell_type": "code",
   "execution_count": null,
   "metadata": {},
   "outputs": [],
   "source": []
  },
  {
   "cell_type": "code",
   "execution_count": null,
   "metadata": {},
   "outputs": [],
   "source": []
  },
  {
   "cell_type": "markdown",
   "metadata": {},
   "source": [
    "## all params"
   ]
  },
  {
   "cell_type": "code",
   "execution_count": 16,
   "metadata": {},
   "outputs": [],
   "source": [
    "params = {\n",
    "    'ndim': 2,\n",
    "    'size': (10.0, 10.0),\n",
    "    'initial': (1.0, 5.0),\n",
    "    'goal': (8.0, 5.0),\n",
    "    'center': (5.0, 5.0),\n",
    "    'decay': 2.0,\n",
    "    'limits': (-1.0, 1.0)\n",
    "}\n",
    "\n",
    "batch_size = 10000\n",
    "max_time = 9\n",
    "grid_size = 100\n",
    "\n"
   ]
  },
  {
   "cell_type": "markdown",
   "metadata": {},
   "source": [
    "## building the graph\n"
   ]
  },
  {
   "cell_type": "code",
   "execution_count": 17,
   "metadata": {},
   "outputs": [
    {
     "name": "stdout",
     "output_type": "stream",
     "text": [
      "AAAA reward Tensor(\"rnn/while/Neg_3:0\", shape=(10000, 1), dtype=float32)\n"
     ]
    }
   ],
   "source": [
    "my_graph = tf.Graph()\n",
    "mdp = Navigation2(my_graph, **params)\n",
    "layers = [mdp.state_size, 20, 5, mdp.action_size]\n",
    "policy = functools.partial(policy_network, layers)\n",
    "\n",
    "with my_graph.as_default():\n",
    "    with tf.name_scope(\"grid_constants\"):\n",
    "        x_initial, y_initial = params['initial']\n",
    "        x_initial = tf.fill([batch_size], tf.constant(x_initial, tf.float32))\n",
    "        y_initial = tf.fill([batch_size], tf.constant(y_initial, tf.float32))\n",
    "        initial_state = tf.stack([x_initial, y_initial], axis=1)\n",
    "        \n",
    "    with tf.name_scope(\"Noise\"):\n",
    "        inputs = tf.placeholder(tf.float32, shape=[None, max_time, 1], name=\"inputs\")\n",
    "\n",
    "    rnn = MDP_RNN(mdp, policy, batch_size)\n",
    "    rewards, states, actions, final_state = rnn.unroll(inputs, initial_state)\n",
    "    total = tf.reduce_sum(rewards, 1)\n",
    "    loss  = tf.reduce_mean(tf.square(total))\n"
   ]
  },
  {
   "cell_type": "markdown",
   "metadata": {},
   "source": [
    "controll: MDPs in TensorFlow - Navigation with Noisy Transitions\n",
    "Epoch    99: loss = 2238.580566406255"
   ]
  },
  {
   "cell_type": "code",
   "execution_count": 23,
   "metadata": {},
   "outputs": [
    {
     "name": "stdout",
     "output_type": "stream",
     "text": [
      "Epoch    99: loss = 2239.0019531255255\n",
      "Model saved in file: models/model.ckpt\n",
      "Done in 10.662985 sec\n"
     ]
    }
   ],
   "source": [
    "epoch=100\n",
    "learning_rate = 0.1\n",
    "losses, total_cost_per_batch, variables, uptime = train2(my_graph, loss, total, batch_size, max_time, epoch, learning_rate)"
   ]
  },
  {
   "cell_type": "code",
   "execution_count": 24,
   "metadata": {},
   "outputs": [
    {
     "data": {
      "text/plain": [
       "TensorShape([Dimension(10000), Dimension(9), Dimension(2)])"
      ]
     },
     "execution_count": 24,
     "metadata": {},
     "output_type": "execute_result"
    }
   ],
   "source": []
  },
  {
   "cell_type": "code",
   "execution_count": 25,
   "metadata": {},
   "outputs": [
    {
     "data": {
      "text/plain": [
       "<tf.Tensor 'stack:0' shape=(10000, 9, 2) dtype=float32>"
      ]
     },
     "execution_count": 25,
     "metadata": {},
     "output_type": "execute_result"
    }
   ],
   "source": []
  },
  {
   "cell_type": "code",
   "execution_count": null,
   "metadata": {},
   "outputs": [],
   "source": []
  },
  {
   "cell_type": "markdown",
   "metadata": {},
   "source": [
    "## Evaluate Policy Network"
   ]
  },
  {
   "cell_type": "code",
   "execution_count": 27,
   "metadata": {},
   "outputs": [
    {
     "name": "stdout",
     "output_type": "stream",
     "text": [
      "INFO:tensorflow:Restoring parameters from models/model.ckpt\n"
     ]
    }
   ],
   "source": [
    "tf.reset_default_graph()\n",
    "\n",
    "grid_size = 10\n",
    "initial_states_grid, batch_size = build_initial_states_grid(grid_size, grid_size)\n",
    "initial_state = tf.constant(initial_states_grid)\n",
    "\n",
    "with tf.variable_scope('rnn'):\n",
    "    action = policy(initial_state)\n",
    "    assert(initial_state.shape == action.shape)\n",
    "\n",
    "saver = tf.train.Saver()\n",
    "with tf.Session() as sess:\n",
    "    saver.restore(sess, 'models/model.ckpt')\n",
    "    actions = sess.run(action)"
   ]
  },
  {
   "cell_type": "code",
   "execution_count": 28,
   "metadata": {},
   "outputs": [
    {
     "data": {
      "text/plain": [
       "<matplotlib.text.Text at 0x7f9c897934e0>"
      ]
     },
     "execution_count": 28,
     "metadata": {},
     "output_type": "execute_result"
    },
    {
     "data": {
      "image/png": "[encoded data removed]",
      "text/plain": [
       "<matplotlib.figure.Figure at 0x7f9cb012d6a0>"
      ]
     },
     "metadata": {},
     "output_type": "display_data"
    }
   ],
   "source": [
    "plt.figure(figsize=(15, 5))\n",
    "\n",
    "# plotting losses\n",
    "plt.subplot(121)\n",
    "plt.plot(losses, 'b-')\n",
    "plt.xlim(0, epoch)\n",
    "plt.title('Total Loss')\n",
    "plt.xlabel(\"# iterations\")\n",
    "plt.ylabel(\"total loss\")\n",
    "plt.grid()\n",
    "\n",
    "# histogram of cumulative cost per batch\n",
    "plt.subplot(122)\n",
    "plt.hist(total_cost_per_batch, normed=True, histtype='stepfilled')\n",
    "plt.title('Distribution of cumulative cost per batch')\n",
    "plt.xlabel('total')\n",
    "plt.ylabel('density')"
   ]
  },
  {
   "cell_type": "code",
   "execution_count": 29,
   "metadata": {},
   "outputs": [],
   "source": [
    "def plot_policy(end, action_grid, actions, deceleration=True):\n",
    "    plt.figure(figsize=(8, 8))\n",
    "    \n",
    "    # params\n",
    "    xlim, ylim = params['size']\n",
    "    xcenter, ycenter = params['center']\n",
    "    \n",
    "    # plot configuration\n",
    "    plt.axis([0.0, xlim, 0.0, ylim])\n",
    "    plt.axes().set_aspect('equal')\n",
    "    plt.grid()\n",
    "    plt.title(\"Policy\", fontweight=\"bold\", fontsize=16)\n",
    "    plt.xlabel(\"x coordinate\")\n",
    "    plt.ylabel(\"y coordinate\")\n",
    "\n",
    "    if deceleration:\n",
    "        npoints = 1000\n",
    "        X, Y = np.meshgrid(np.linspace(0.0, xlim, npoints), np.linspace(0.0, ylim, npoints))\n",
    "        D = np.sqrt((X - xcenter) ** 2 + (Y - ycenter) ** 2)\n",
    "        Lambda = 2 / (1 + np.exp(-params['decay'] * D)) - 1.00\n",
    "\n",
    "        ticks = np.arange(0.0, 1.01, 0.10)\n",
    "        cp = plt.contourf(X, Y, Lambda, ticks, cmap=plt.cm.bone)\n",
    "        cp = plt.contour(X, Y, Lambda, ticks, colors='black', linestyles='dashed')\n",
    "        \n",
    "    # action_grid\n",
    "    initial_states_x = [ p[0] for p in action_grid ]\n",
    "    initial_states_y = [ p[1] for p in action_grid ]\n",
    "    plt.plot(initial_states_x, initial_states_y, 'g.')\n",
    " \n",
    "    # actions\n",
    "    plt.quiver(initial_states_x, initial_states_y, actions[:, 0], actions[:, 1],\n",
    "               angles='xy', scale_units='xy', scale=1, color='dodgerblue', width=0.005,\n",
    "               label='actions')\n",
    "\n",
    "    # end\n",
    "    plt.plot([end[0]], [end[1]], marker='X', markersize=15, color='crimson', label='goal')\n"
   ]
  },
  {
   "cell_type": "code",
   "execution_count": 30,
   "metadata": {},
   "outputs": [
    {
     "data": {
      "image/png": "[encoded data removed]",
      "text/plain": [
       "<matplotlib.figure.Figure at 0x7f9cb81867f0>"
      ]
     },
     "metadata": {},
     "output_type": "display_data"
    }
   ],
   "source": [
    "start, end = params['initial'], params['goal']\n",
    "plot_policy(end, initial_states_grid, actions)"
   ]
  }
 ],
 "metadata": {
  "kernelspec": {
   "display_name": "Python 3",
   "language": "python",
   "name": "python3"
  },
  "language_info": {
   "codemirror_mode": {
    "name": "ipython",
    "version": 3
   },
   "file_extension": ".py",
   "mimetype": "text/x-python",
   "name": "python",
   "nbconvert_exporter": "python",
   "pygments_lexer": "ipython3",
   "version": "3.5.2"
  }
 },
 "nbformat": 4,
 "nbformat_minor": 2
}
